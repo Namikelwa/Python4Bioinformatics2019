{
 "cells": [
  {
   "cell_type": "markdown",
   "metadata": {},
   "source": [
    "<small><small><i>\n",
    "Introduction to Python for Bioinformatics - available at https://github.com/kipkurui/Python4Bioinformatics.\n",
    "</i></small></small>\n",
    "\n",
    "## Files, Scripting and Modules\n",
    "\n",
    "So far, we have been writing all our Python Code in Jupyter notebooks. However, if you want to use the code we have written as part of a pipeline, you need to write scripts. Also, most of the time the data you need to analyse is in a file, which you need to read to Python and process. \n",
    "\n",
    "\n",
    "### Reading Files\n",
    "\n",
    "So far we have been working from memory. In Bioinformatics, you will need to read some file or even write some output to file. We use the `open` function. "
   ]
  },
  {
   "cell_type": "code",
   "execution_count": 1,
   "metadata": {},
   "outputs": [],
   "source": [
    "myfile = open(\"../Data/test.txt\", \"w\")\n",
    "myfile.write(\"My first file written from Python \\n\")\n",
    "myfile.write(\"---------------------------------\\n\")\n",
    "myfile.write(\"Hello, world!\\n\")\n",
    "myfile.close()"
   ]
  },
  {
   "cell_type": "markdown",
   "metadata": {},
   "source": [
    "The **mode** in which you open the file determines whether to write (w), read (r) or append(a) to file. \n",
    "\n",
    "Opening a file creates what we call a **file handle** which contains methods for manipulating the file. In our case, `myfile` has the methods to write and close the file. Closing the file makes it accessible in the disk. \n",
    "\n",
    "Alternatively, one can open the file in a mode that automatically closes the file when done. "
   ]
  },
  {
   "cell_type": "code",
   "execution_count": 2,
   "metadata": {},
   "outputs": [],
   "source": [
    "with open(\"../Data/test.txt\", \"w\") as myfile:\n",
    "    myfile.write(\"My first file written from Python \\n\")\n",
    "    myfile.write(\"---------------------------------\\n\")\n",
    "    myfile.write(\"Hello, world!\\n\")"
   ]
  },
  {
   "cell_type": "markdown",
   "metadata": {},
   "source": [
    "Let's check what else we can do with `open`."
   ]
  },
  {
   "cell_type": "code",
   "execution_count": 3,
   "metadata": {},
   "outputs": [],
   "source": [
    "?open"
   ]
  },
  {
   "cell_type": "markdown",
   "metadata": {},
   "source": [
    "#### Fetching file from the web\n",
    "Download this [file](https://www.uniprot.org/docs/humchrx.txt) we will use to explore file reading in python. "
   ]
  },
  {
   "cell_type": "code",
   "execution_count": 1,
   "metadata": {},
   "outputs": [
    {
     "data": {
      "text/plain": [
       "('../Data/humchrx.txt', <http.client.HTTPMessage at 0x7f959034ff10>)"
      ]
     },
     "execution_count": 1,
     "metadata": {},
     "output_type": "execute_result"
    }
   ],
   "source": [
    "import urllib.request\n",
    "\n",
    "url = \"https://www.uniprot.org/docs/humchrx.txt\"\n",
    "destination_filename = \"../Data/humchrx.txt\"\n",
    "urllib.request.urlretrieve(url, destination_filename)"
   ]
  },
  {
   "cell_type": "markdown",
   "metadata": {},
   "source": [
    "#### Reading a file line-at-a-time\n",
    "\n",
    "We can read the file line by line using `readline`. Thie reads the line one by one until the end of the file. This is suitable for a large file which may not fit memory. "
   ]
  },
  {
   "cell_type": "code",
   "execution_count": 6,
   "metadata": {},
   "outputs": [
    {
     "name": "stdout",
     "output_type": "stream",
     "text": [
      "----------------------------------------------------------------------------\n",
      "\n"
     ]
    }
   ],
   "source": [
    "humchrx = open('../Data/humchrx.txt', 'r')\n",
    "line = humchrx.readline()\n",
    "print(line)"
   ]
  },
  {
   "cell_type": "code",
   "execution_count": 7,
   "metadata": {},
   "outputs": [],
   "source": [
    "humchrx.close()"
   ]
  },
  {
   "cell_type": "code",
   "execution_count": 8,
   "metadata": {},
   "outputs": [
    {
     "name": "stdout",
     "output_type": "stream",
     "text": [
      "My first file written from Python \n",
      "\n",
      "---------------------------------\n",
      "\n",
      "Hello, world!\n",
      "\n"
     ]
    }
   ],
   "source": [
    "with open('../Data/test.txt', 'r') as myfile:\n",
    "    while True:\n",
    "        line = myfile.readline()\n",
    "        if len(line) == 0: # If there are no more lines\n",
    "            break\n",
    "        print(line)\n",
    "    "
   ]
  },
  {
   "cell_type": "markdown",
   "metadata": {},
   "source": [
    "### Read the whole file\n",
    "\n",
    "If the file is small or PC has enough memory, you can read the whole file into memory as a list using `readlines`."
   ]
  },
  {
   "cell_type": "code",
   "execution_count": 9,
   "metadata": {},
   "outputs": [
    {
     "name": "stdout",
     "output_type": "stream",
     "text": [
      "My first file written from Python \n",
      "\n",
      "---------------------------------\n",
      "\n",
      "Hello, world!\n",
      "\n"
     ]
    }
   ],
   "source": [
    "with open('../Data/test.txt', 'r') as myfile:\n",
    "    lines = myfile.readlines()\n",
    "    for line in lines:\n",
    "        print(line)"
   ]
  },
  {
   "cell_type": "markdown",
   "metadata": {},
   "source": [
    "or as a whole"
   ]
  },
  {
   "cell_type": "code",
   "execution_count": 10,
   "metadata": {},
   "outputs": [
    {
     "name": "stdout",
     "output_type": "stream",
     "text": [
      "My first file written from Python \n",
      "---------------------------------\n",
      "Hello, world!\n",
      "\n"
     ]
    }
   ],
   "source": [
    "with open('../Data/test.txt', 'r') as myfile:\n",
    "    whole_file = myfile.read()\n",
    "    print(whole_file)"
   ]
  },
  {
   "cell_type": "code",
   "execution_count": 1,
   "metadata": {},
   "outputs": [
    {
     "name": "stdout",
     "output_type": "stream",
     "text": [
      "/home/icipe/Desktop/data-shell/data/Namikelwa_internship/Python/Python4Bioinformatics2019/Notebooks\n"
     ]
    }
   ],
   "source": [
    "!pwd"
   ]
  },
  {
   "cell_type": "code",
   "execution_count": 1,
   "metadata": {},
   "outputs": [
    {
     "ename": "SyntaxError",
     "evalue": "invalid syntax (<ipython-input-1-437461102ae0>, line 3)",
     "output_type": "error",
     "traceback": [
      "\u001b[0;36m  File \u001b[0;32m\"<ipython-input-1-437461102ae0>\"\u001b[0;36m, line \u001b[0;32m3\u001b[0m\n\u001b[0;31m    for line in\u001b[0m\n\u001b[0m               ^\u001b[0m\n\u001b[0;31mSyntaxError\u001b[0m\u001b[0;31m:\u001b[0m invalid syntax\n"
     ]
    }
   ],
   "source": [
    "with open ('/home/icipe/Desktop/data-shell/data/test.fa', 'r')as myfile:\n",
    "    x=myfile.read()\n",
    "    for line in\n",
    "    print"
   ]
  },
  {
   "cell_type": "code",
   "execution_count": null,
   "metadata": {},
   "outputs": [],
   "source": []
  },
  {
   "cell_type": "markdown",
   "metadata": {},
   "source": [
    "### Exercise 1\n",
    "\n",
    "Write a function the reads the file (humchr.txt) and writes to another file (gene_names.txt) a clean list of gene names."
   ]
  },
  {
   "cell_type": "code",
   "execution_count": null,
   "metadata": {},
   "outputs": [],
   "source": [
    "#function that extracts gene names from fasta files in either second or third fields into list\n",
    "gene_name=[]\n",
    "def genename_extractor(file):\n",
    "    with open('humchrx.txt','r')as myfile:\n",
    "        lines=myfile.readlines()\n",
    "        for i,line in enumerate(lines):\n",
    "            if i>35:\n",
    "                line_splt=line.split()\n",
    "                fields=line_splt[0]\n",
    "                if fields.startswith('-'):\n",
    "                    break\n",
    "\n",
    "                final_name=\"\".join(fields)\n",
    "                gene_name.append(final_name)\n",
    "\n",
    "    return(gene_name)"
   ]
  },
  {
   "cell_type": "code",
   "execution_count": null,
   "metadata": {},
   "outputs": [],
   "source": [
    "def gene_writer (gene_names,file):\n",
    "    #Takes a list containing species names and writes them out to an output file\n",
    "    with open(file,'w')as outputfile:\n",
    "        outputfile.write('gene names\\n')\n",
    "        for name in gene_names:\n",
    "            outputfile.write(name+\"\\n\")\n"
   ]
  },
  {
   "cell_type": "markdown",
   "metadata": {},
   "source": [
    "### Scripts and Modules\n",
    "\n",
    "A script is a file containing Python definitions and statements for performing some analysis. Scripts are known as when they are intended for use in other Python programs. Many Python modules come with Python as part of the standard library. \n",
    "\n",
    "You can get a list of available modules using help() and explore them."
   ]
  },
  {
   "cell_type": "markdown",
   "metadata": {},
   "source": [
    "### Writing you own modules\n",
    "\n",
    "All we need to do to create our own modules is to save our script as a file with a `.py` extension. Suppose, for example, this script is saved as a file named `seqtools.py`.\n",
    "\n",
    "```python\n",
    "def remove_at(pos, seq):\n",
    "    return seq[:pos] + seq[pos+1:]```\n",
    "    \n",
    "We can import the module as:"
   ]
  },
  {
   "cell_type": "code",
   "execution_count": 11,
   "metadata": {},
   "outputs": [],
   "source": [
    "import seqtools"
   ]
  },
  {
   "cell_type": "code",
   "execution_count": null,
   "metadata": {},
   "outputs": [],
   "source": []
  },
  {
   "cell_type": "code",
   "execution_count": 12,
   "metadata": {},
   "outputs": [
    {
     "data": {
      "text/plain": [
       "'A sting!'"
      ]
     },
     "execution_count": 12,
     "metadata": {},
     "output_type": "execute_result"
    }
   ],
   "source": [
    "s = \"A string!\"\n",
    "seqtools.remove_at(4,s)"
   ]
  },
  {
   "cell_type": "code",
   "execution_count": 13,
   "metadata": {},
   "outputs": [
    {
     "data": {
      "text/plain": [
       "'23000'"
      ]
     },
     "execution_count": 13,
     "metadata": {},
     "output_type": "execute_result"
    }
   ],
   "source": [
    "'23,000,'.replace(',','')"
   ]
  },
  {
   "cell_type": "markdown",
   "metadata": {},
   "source": [
    "Modules are useful when you want to analyse large data using the HPC or even create your library of handy functions. \n",
    "\n",
    "#### Running scripts\n",
    "\n",
    "When you have put your commands into a .py file, you can execute on the command line by invoking the Python interpreter using `python script.py.`"
   ]
  },
  {
   "cell_type": "markdown",
   "metadata": {},
   "source": [
    "### Exercise 2\n",
    "\n",
    "1. Convert the function you wrote in exercise 1 into a python module. Then, import the module and use the function to read `humchrx.txt` file and create a gene list file.\n",
    "2. Create a stand-alone script that does all the above.\n",
    "\n",
    "\n",
    "### Script that takes command line arguments\n",
    "So far, we can create a script that does one thing. In this case, you have to edit the script if you have a new gene file to analyse or you want to use a different name for the output file.\n",
    "\n",
    "#### sys.argv\n",
    "sys.argv is a list in Python, which contains the command line arguments passed to the script. Lets add this to a script `sysargv.py` and run on the command line. \n",
    "\n",
    "```python\n",
    "import sys\n",
    "print(\"This is the name of the script: \", sys.argv[0])\n",
    "print(\"Number of arguments: \", len(sys.argv))\n",
    "print(\"The arguments are: \" , str(sys.argv))```"
   ]
  },
  {
   "cell_type": "code",
   "execution_count": null,
   "metadata": {
    "tags": []
   },
   "outputs": [],
   "source": [
    "#!/usr/bin/env python\n",
    "#12th July 2021\n",
    "#By Namikelwa\n",
    "\n",
    "gene_name=[]\n",
    "def genename_extractor(file):\n",
    "    with open('humchrx.txt','r')as myfile:\n",
    "        lines=myfile.readlines()\n",
    "        for i,line in enumerate(lines):\n",
    "            if i>35:\n",
    "                line_splt=line.split()\n",
    "                fields=line_splt[0]\n",
    "                if fields.startswith('-'):\n",
    "                    break\n",
    "\n",
    "                final_name=\"\".join(fields)\n",
    "                gene_name.append(final_name)\n",
    "\n",
    "    return(gene_name)\n",
    "\n",
    "\n",
    "\n",
    "def gene_writer (gene_name,file):\n",
    "    with open(file,'w')as outputfile:\n",
    "        outputfile.write('gene names\\n')\n",
    "        for name in gene_name:\n",
    "            outputfile.write(name+\"\\n\")\n",
    "#can be used as a module after importing\n",
    "\n",
    "if __name__==\"__main__\":   #danda-ensures the script can be run as a standalone \n",
    "    import sys\n",
    "    #sys argument helps to pass arguments on the commandline\n",
    "    #define inputs\n",
    "    humchrx=sys.argv[1]\n",
    "    gene_list=sys.argv[2]\n",
    "    \n",
    "    #workflow\n",
    "    print('Extracting gene names from humchrx')\n",
    "    gene_name=genename_extractor(humchrx)\n",
    "    print('Writing the gene names to an output file')\n",
    "    gene_writer(gene_name,gene_list)\n",
    "\n",
    " #on the commandline,conda activate your environment,then print python enter your module nam ...py and provide your 2 arguments extraction file and the    outputfile.\n",
    "   "
   ]
  },
  {
   "cell_type": "code",
   "execution_count": 3,
   "metadata": {},
   "outputs": [
    {
     "name": "stdout",
     "output_type": "stream",
     "text": [
      "python: can't open file '/home/icipe/Desktop/data-shell/data/Namikelwa_internship/Python/Python4Bioinformatics2019/Notebooks/sysargv.py': [Errno 2] No such file or directory\n"
     ]
    }
   ],
   "source": [
    "!python sysargv.py test"
   ]
  },
  {
   "cell_type": "markdown",
   "metadata": {},
   "source": [
    "\n",
    "### Exercise 3\n",
    "- Using the same concept, convert your script in exercise 1 to take command line arguments (input and output files)\n",
    "- Using a DNA sequence read from file, answer the following questions:\n",
    "    1. Create a file which contains this string \"AAAATGCCTTGGCATGACCCCGGATCCCCCCCCCTTC\". Read this string into memory and answer the question below\n",
    "    2. Show that the DNA string contains only four letters.\n",
    "    3. In the DNA string there are regions that have a repeating letter. What is the letter and length of the longest repeating region?\n",
    "    4. How many ’ATG’s are in the DNA string?"
   ]
  },
  {
   "cell_type": "code",
   "execution_count": null,
   "metadata": {},
   "outputs": [],
   "source": []
  },
  {
   "cell_type": "markdown",
   "metadata": {},
   "source": [
    "### File handling, OS module, Shutil and Path modules\n",
    "\n",
    "Python can also interface directly with the Linux operating system using the **os**, **Shutil** and **path** modules.\n",
    "\n",
    "First, let's import the OS module"
   ]
  },
  {
   "cell_type": "code",
   "execution_count": 2,
   "metadata": {},
   "outputs": [],
   "source": [
    "import os"
   ]
  },
  {
   "cell_type": "code",
   "execution_count": 3,
   "metadata": {},
   "outputs": [
    {
     "data": {
      "text/plain": [
       "'/home/icipe/Desktop/data-shell/data/Namikelwa_internship/Python/Python4Bioinformatics2019/Notebooks'"
      ]
     },
     "execution_count": 3,
     "metadata": {},
     "output_type": "execute_result"
    }
   ],
   "source": [
    "os.getcwd()"
   ]
  },
  {
   "cell_type": "code",
   "execution_count": 4,
   "metadata": {},
   "outputs": [],
   "source": [
    "os.chdir('..')"
   ]
  },
  {
   "cell_type": "code",
   "execution_count": 5,
   "metadata": {},
   "outputs": [
    {
     "data": {
      "text/plain": [
       "'/home/icipe/Desktop/data-shell/data/Namikelwa_internship/Python/Python4Bioinformatics2019'"
      ]
     },
     "execution_count": 5,
     "metadata": {},
     "output_type": "execute_result"
    }
   ],
   "source": [
    "os.getcwd()"
   ]
  },
  {
   "cell_type": "code",
   "execution_count": 8,
   "metadata": {},
   "outputs": [],
   "source": [
    "os.chdir('Notebooks/')"
   ]
  },
  {
   "cell_type": "code",
   "execution_count": 20,
   "metadata": {},
   "outputs": [],
   "source": [
    "?os"
   ]
  },
  {
   "cell_type": "code",
   "execution_count": 9,
   "metadata": {},
   "outputs": [
    {
     "data": {
      "text/plain": [
       "['02.ipynb',\n",
       " '01.ipynb',\n",
       " '00.ipynb',\n",
       " '10.ipynb',\n",
       " 'gfg.txt',\n",
       " '07.ipynb',\n",
       " '04.ipynb',\n",
       " '08.ipynb',\n",
       " '06.ipynb',\n",
       " '.ipynb_checkpoints',\n",
       " '03.ipynb',\n",
       " '05.ipynb',\n",
       " 'dna.txt',\n",
       " '09.ipynb',\n",
       " 'practice.ipynb']"
      ]
     },
     "execution_count": 9,
     "metadata": {},
     "output_type": "execute_result"
    }
   ],
   "source": [
    "os.listdir()"
   ]
  },
  {
   "cell_type": "code",
   "execution_count": 22,
   "metadata": {},
   "outputs": [
    {
     "data": {
      "text/plain": [
       "False"
      ]
     },
     "execution_count": 22,
     "metadata": {},
     "output_type": "execute_result"
    }
   ],
   "source": [
    "os.path.isdir('../Scripts/bank.py')"
   ]
  },
  {
   "cell_type": "code",
   "execution_count": 23,
   "metadata": {},
   "outputs": [
    {
     "data": {
      "text/plain": [
       "True"
      ]
     },
     "execution_count": 23,
     "metadata": {},
     "output_type": "execute_result"
    }
   ],
   "source": [
    "os.path.isfile('../Scripts/bank.py')"
   ]
  },
  {
   "cell_type": "code",
   "execution_count": null,
   "metadata": {},
   "outputs": [],
   "source": []
  },
  {
   "cell_type": "code",
   "execution_count": null,
   "metadata": {},
   "outputs": [],
   "source": []
  },
  {
   "cell_type": "markdown",
   "metadata": {},
   "source": [
    "### path manipulation\n",
    "The path module inside the os module contains methods related with path manipulation.For example you can use `path.join()` to join paths. \n",
    "- `path.exists(path):` Checks if a given path exists.\n",
    "- `path.split(path):` Returns a tuple splitting the file or directory name at the end and the rest of the path\n",
    "- `path.splitext(path):` Splits out the extension of a file. It returns a tuple with the dotted extension and the original parameter up to the dot.\n",
    "- `path.join(directory1,directory2,...)`: Join two or more path name components, inserting the operating system path separator as needed"
   ]
  },
  {
   "cell_type": "code",
   "execution_count": 24,
   "metadata": {},
   "outputs": [],
   "source": [
    "?os.path.join()"
   ]
  },
  {
   "cell_type": "markdown",
   "metadata": {},
   "source": [
    "Explore more at your own time.\n",
    "\n",
    "### Shutil\n",
    "Utility functions for copying and archiving files and directory trees."
   ]
  },
  {
   "cell_type": "code",
   "execution_count": 25,
   "metadata": {},
   "outputs": [],
   "source": [
    "import shutil"
   ]
  },
  {
   "cell_type": "code",
   "execution_count": 26,
   "metadata": {},
   "outputs": [],
   "source": [
    "?shutil"
   ]
  }
 ],
 "metadata": {
  "kernelspec": {
   "display_name": "Python 3",
   "language": "python",
   "name": "python3"
  },
  "language_info": {
   "codemirror_mode": {
    "name": "ipython",
    "version": 3
   },
   "file_extension": ".py",
   "mimetype": "text/x-python",
   "name": "python",
   "nbconvert_exporter": "python",
   "pygments_lexer": "ipython3",
   "version": "3.9.5"
  }
 },
 "nbformat": 4,
 "nbformat_minor": 4
}
